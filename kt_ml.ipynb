{
  "nbformat": 4,
  "nbformat_minor": 0,
  "metadata": {
    "colab": {
      "provenance": [],
      "machine_shape": "hm"
    },
    "kernelspec": {
      "name": "python3",
      "display_name": "Python 3"
    },
    "language_info": {
      "name": "python"
    },
    "accelerator": "GPU"
  },
  "cells": [
    {
      "cell_type": "code",
      "source": [
        "pip install bayesian-optimization"
      ],
      "metadata": {
        "colab": {
          "base_uri": "https://localhost:8080/"
        },
        "id": "5T2NSEcsS255",
        "outputId": "5397fb09-f346-44b2-99f6-8855d282ebd4"
      },
      "execution_count": null,
      "outputs": [
        {
          "output_type": "stream",
          "name": "stdout",
          "text": [
            "Looking in indexes: https://pypi.org/simple, https://us-python.pkg.dev/colab-wheels/public/simple/\n",
            "Collecting bayesian-optimization\n",
            "  Downloading bayesian-optimization-1.2.0.tar.gz (14 kB)\n",
            "Requirement already satisfied: numpy>=1.9.0 in /usr/local/lib/python3.7/dist-packages (from bayesian-optimization) (1.21.6)\n",
            "Requirement already satisfied: scipy>=0.14.0 in /usr/local/lib/python3.7/dist-packages (from bayesian-optimization) (1.7.3)\n",
            "Requirement already satisfied: scikit-learn>=0.18.0 in /usr/local/lib/python3.7/dist-packages (from bayesian-optimization) (1.0.2)\n",
            "Requirement already satisfied: threadpoolctl>=2.0.0 in /usr/local/lib/python3.7/dist-packages (from scikit-learn>=0.18.0->bayesian-optimization) (3.1.0)\n",
            "Requirement already satisfied: joblib>=0.11 in /usr/local/lib/python3.7/dist-packages (from scikit-learn>=0.18.0->bayesian-optimization) (1.1.0)\n",
            "Building wheels for collected packages: bayesian-optimization\n",
            "  Building wheel for bayesian-optimization (setup.py) ... \u001b[?25l\u001b[?25hdone\n",
            "  Created wheel for bayesian-optimization: filename=bayesian_optimization-1.2.0-py3-none-any.whl size=11685 sha256=63343ddce003563a7a46b9df4c43d6de1f3943cb5cba65df17279224f5a76873\n",
            "  Stored in directory: /root/.cache/pip/wheels/fd/9b/71/f127d694e02eb40bcf18c7ae9613b88a6be4470f57a8528c5b\n",
            "Successfully built bayesian-optimization\n",
            "Installing collected packages: bayesian-optimization\n",
            "Successfully installed bayesian-optimization-1.2.0\n"
          ]
        }
      ]
    },
    {
      "cell_type": "code",
      "execution_count": null,
      "metadata": {
        "id": "cGGEB9BPxn5-"
      },
      "outputs": [],
      "source": [
        "import numpy as np\n",
        "import pandas as pd\n",
        "import matplotlib.pyplot as plt\n",
        "import seaborn as sns\n",
        "from sklearn import metrics\n",
        "from sklearn.ensemble import GradientBoostingClassifier\n",
        "from sklearn.preprocessing import LabelEncoder\n",
        "from sklearn.impute import SimpleImputer\n",
        "import tensorflow as tf\n",
        "from keras import regularizers\n",
        "from sklearn.preprocessing import MinMaxScaler\n",
        "from bayes_opt import BayesianOptimization"
      ]
    },
    {
      "cell_type": "code",
      "source": [
        "kt_csv = pd.read_csv('/content/drive/MyDrive/kt/round1_train.csv')"
      ],
      "metadata": {
        "id": "Gyf6CATex3Cv"
      },
      "execution_count": null,
      "outputs": []
    },
    {
      "cell_type": "code",
      "source": [
        "kt_csv"
      ],
      "metadata": {
        "id": "-0xVbHTf1icx"
      },
      "execution_count": null,
      "outputs": []
    },
    {
      "cell_type": "code",
      "source": [
        "kt_csv.isnull().sum()"
      ],
      "metadata": {
        "id": "sC-biCblQLHb"
      },
      "execution_count": null,
      "outputs": []
    },
    {
      "cell_type": "code",
      "source": [
        "# mfreq1 = kt_csv['광고 응답 광고주 도메인'].value_counts().idxmax()\n",
        "# mfreq2 = kt_csv['국가코드 ID'].value_counts().idxmax()\n",
        "# mfreq3 = kt_csv['ADID'].value_counts().idxmax()\n",
        "mfreq4 = kt_csv['WUID (웹 유저 ID)'].value_counts().idxmax()\n",
        "# mfreq5 = kt_csv['광고 응답 소재 카테고리'].value_counts().idxmax()\n",
        "# mfreq6 = kt_csv['OS 버전 ID'].value_counts().idxmax()"
      ],
      "metadata": {
        "id": "ldjR1ouvQXtx"
      },
      "execution_count": null,
      "outputs": []
    },
    {
      "cell_type": "code",
      "source": [
        "# kt_csv['광고 응답 광고주 도메인'] = kt_csv['광고 응답 광고주 도메인'].fillna(mfreq1)\n",
        "# kt_csv['국가코드 ID'] = kt_csv['국가코드 ID'].fillna(mfreq2)\n",
        "# kt_csv['ADID'] = kt_csv['ADID'].fillna(mfreq3)\n",
        "kt_csv['WUID (웹 유저 ID)'] = kt_csv['WUID (웹 유저 ID)'].fillna(mfreq4)\n",
        "# kt_csv['광고 응답 소재 카테고리'] = kt_csv['광고 응답 소재 카테고리'].fillna(mfreq5)\n",
        "# kt_csv['OS 버전 ID'] = kt_csv['OS 버전 ID'].fillna(mfreq6)"
      ],
      "metadata": {
        "id": "WLWTyql6QdrR"
      },
      "execution_count": null,
      "outputs": []
    },
    {
      "cell_type": "code",
      "source": [
        "kt_csv.corr()"
      ],
      "metadata": {
        "id": "5cT3V-wrGzvc"
      },
      "execution_count": null,
      "outputs": []
    },
    {
      "cell_type": "code",
      "source": [
        "kt_csv.isnull().sum()"
      ],
      "metadata": {
        "id": "KGxmEs7YRTCb"
      },
      "execution_count": null,
      "outputs": []
    },
    {
      "cell_type": "code",
      "source": [
        "kt_csv.info()"
      ],
      "metadata": {
        "id": "ActkUsaVRaLn"
      },
      "execution_count": null,
      "outputs": []
    },
    {
      "cell_type": "code",
      "source": [
        "# kt_csv['시각'] = kt_csv['시각'].astype('category')\n",
        "# kt_csv['ADID'] = kt_csv['ADID'].astype('category')\n",
        "# kt_csv['DSP ID'] = kt_csv['DSP ID'].astype('category')\n",
        "# kt_csv['노출 ID'] = kt_csv['노출 ID'].astype('category')\n",
        "# kt_csv['SSP 입찰ID'] = kt_csv['SSP 입찰ID'].astype('category')\n",
        "# kt_csv['DSP 입찰ID'] = kt_csv['DSP 입찰ID'].astype('category')\n",
        "# kt_csv['AX 낙찰ID'] = kt_csv['AX 낙찰ID'].astype('category')\n",
        "kt_csv['WUID (웹 유저 ID)'] = kt_csv['WUID (웹 유저 ID)'].astype('category')\n",
        "# kt_csv['광고 응답 소재 카테고리'] = kt_csv['AX 낙찰ID'].astype('category')\n",
        "# kt_csv['매체 ID'] = kt_csv['매체 ID'].astype('category')\n",
        "# kt_csv['애드유닛 ID'] = kt_csv['애드유닛 ID'].astype('category')\n",
        "# kt_csv['광고 응답 광고주 도메인'] = kt_csv['광고 응답 광고주 도메인'].astype('category')"
      ],
      "metadata": {
        "id": "QZ2x9XGA2pzB"
      },
      "execution_count": null,
      "outputs": []
    },
    {
      "cell_type": "code",
      "source": [
        "ndf = kt_csv.drop(['시각', '환율', 'ADID', 'ADID 타입', '매체 ID', 'OS 종류', '노출 ID', 'SSP 입찰ID', 'DSP 입찰ID', 'AX 낙찰ID', '광고 응답 소재 카테고리', '광고 응답 광고주 도메인', '국가코드 ID', 'OS 버전 ID', 'P2','P5'], axis = 'columns')"
      ],
      "metadata": {
        "id": "RGhRftMusq8P"
      },
      "execution_count": null,
      "outputs": []
    },
    {
      "cell_type": "code",
      "source": [
        "labelencoder=LabelEncoder()\n",
        "for col in ndf.columns:\n",
        "    ndf[col] = labelencoder.fit_transform(ndf[col])"
      ],
      "metadata": {
        "id": "HkFqwKhO3WAq"
      },
      "execution_count": null,
      "outputs": []
    },
    {
      "cell_type": "code",
      "source": [
        "ny = ndf['winning'].values\n",
        "nx = ndf.drop(['winning'], axis=1).values\n",
        "nx = (nx - nx.min()) / (nx.max() - nx.min())"
      ],
      "metadata": {
        "id": "eeLt5KTTHEcr"
      },
      "execution_count": null,
      "outputs": []
    },
    {
      "cell_type": "code",
      "source": [
        "nny = ndf['winning'].values"
      ],
      "metadata": {
        "id": "WsYqi40AewO9"
      },
      "execution_count": null,
      "outputs": []
    },
    {
      "cell_type": "code",
      "source": [
        "ny = tf.keras.utils.to_categorical(ny, num_classes=2) #one-hot encoding"
      ],
      "metadata": {
        "id": "afBx_NlXIWP-"
      },
      "execution_count": null,
      "outputs": []
    },
    {
      "cell_type": "code",
      "source": [
        "nx.shape, ny.shape"
      ],
      "metadata": {
        "colab": {
          "base_uri": "https://localhost:8080/"
        },
        "id": "mCDIgCltIfFY",
        "outputId": "dbc92ed5-e2cb-49d7-e1cf-225b166e07bf"
      },
      "execution_count": null,
      "outputs": [
        {
          "output_type": "execute_result",
          "data": {
            "text/plain": [
              "((8525512, 8), (8525512, 2))"
            ]
          },
          "metadata": {},
          "execution_count": 24
        }
      ]
    },
    {
      "cell_type": "code",
      "source": [
        "np.isnan(nx).any(), np.isnan(ny).any()"
      ],
      "metadata": {
        "colab": {
          "base_uri": "https://localhost:8080/"
        },
        "id": "lbB6vJYXIjoj",
        "outputId": "eb22d5bd-4c59-49c6-e798-8902decb6cb3"
      },
      "execution_count": null,
      "outputs": [
        {
          "output_type": "execute_result",
          "data": {
            "text/plain": [
              "(False, False)"
            ]
          },
          "metadata": {},
          "execution_count": 25
        }
      ]
    },
    {
      "cell_type": "code",
      "source": [
        "nx"
      ],
      "metadata": {
        "id": "O1oDm6kHBl_t",
        "colab": {
          "base_uri": "https://localhost:8080/"
        },
        "outputId": "a2e32c8d-01f6-49a2-c667-40ef33b90b50"
      },
      "execution_count": null,
      "outputs": [
        {
          "output_type": "execute_result",
          "data": {
            "text/plain": [
              "array([[6.37857479e-06, 2.95540632e-04, 0.00000000e+00, ...,\n",
              "        5.26232420e-04, 2.12619160e-06, 1.09047052e-01],\n",
              "       [5.31547899e-06, 6.74002736e-04, 0.00000000e+00, ...,\n",
              "        9.45424914e-01, 2.12619160e-06, 9.45247377e-01],\n",
              "       [5.31547899e-06, 2.62584662e-04, 2.12619160e-06, ...,\n",
              "        8.13774320e-01, 4.08228787e-04, 8.13609540e-01],\n",
              "       ...,\n",
              "       [5.31547899e-06, 6.07027701e-04, 2.12619160e-06, ...,\n",
              "        8.76035588e-01, 9.42965973e-04, 8.75872935e-01],\n",
              "       [5.31547899e-06, 9.12136195e-04, 0.00000000e+00, ...,\n",
              "        4.44099765e-01, 5.31547899e-06, 4.43936048e-01],\n",
              "       [5.31547899e-06, 9.12136195e-04, 0.00000000e+00, ...,\n",
              "        4.44099765e-01, 5.31547899e-06, 4.43936048e-01]])"
            ]
          },
          "metadata": {},
          "execution_count": 26
        }
      ]
    },
    {
      "cell_type": "code",
      "source": [
        "from sklearn.model_selection import train_test_split\n",
        "\n",
        "x_train, x_val, y_train, y_val = train_test_split(nx, ny, test_size = 0.1, random_state=42)"
      ],
      "metadata": {
        "id": "HV2xhdwWRb6M"
      },
      "execution_count": null,
      "outputs": []
    },
    {
      "cell_type": "code",
      "source": [
        "xx_train, xx_val, yy_train, yy_val = train_test_split(nx, nny, test_size = 0.1, random_state=42)"
      ],
      "metadata": {
        "id": "6ulzHCs0e3zN"
      },
      "execution_count": null,
      "outputs": []
    },
    {
      "cell_type": "code",
      "source": [
        "# #XGBoost모델의 정확도\n",
        "# from xgboost import XGBClassifier\n",
        "\n",
        "# xgbm = XGBClassifier(\n",
        "#                      colsample_bytree = 0.5373638966605134,\n",
        "#                      gamma = 96.95379387360022,\n",
        "#                      max_depth = 9,\n",
        "#                      min_child_weight = 2.860639159783224,\n",
        "#                      subsample = 0.6333975735601048,\n",
        "#                      tree_method='gpu_hist', \n",
        "#                      n_estimators=8940, \n",
        "#                      learning_rate=0.1388146251654753\n",
        "#                     )\n",
        "# xgbm.fit(xx_train, yy_train)\n",
        "# xgbm.score(xx_val, yy_val)"
      ],
      "metadata": {
        "id": "rtM41bIzRtNt"
      },
      "execution_count": null,
      "outputs": []
    },
    {
      "cell_type": "code",
      "source": [
        "# # 의사결정트리모델의 정확도\n",
        "# from sklearn import tree\n",
        "\n",
        "# treem = tree.DecisionTreeClassifier(\n",
        "#                                     max_depth=None, \n",
        "#                                     min_samples_split=2, \n",
        "#                                     max_features=None, \n",
        "#                                     min_samples_leaf=1,\n",
        "#                                     criterion = 'entropy'\n",
        "#                                     )\n",
        "# treem.fit(x_train, y_train)\n",
        "# treem.score(x_val, y_val)"
      ],
      "metadata": {
        "id": "hHjBa3AnRqi9"
      },
      "execution_count": null,
      "outputs": []
    },
    {
      "cell_type": "code",
      "source": [
        "#랜덤포레스트모델의 정확도\n",
        "from sklearn.ensemble import RandomForestClassifier   \n",
        "\n",
        "rfc = RandomForestClassifier(\n",
        "                            n_estimators=150, \n",
        "                            max_depth=None, \n",
        "                            min_samples_split=2, \n",
        "                            #  class_weight='balanced', \n",
        "                            min_samples_leaf=2,\n",
        "                            )\n",
        "rfc.fit(x_train, y_train)\n",
        "rfc.score(x_val, y_val)"
      ],
      "metadata": {
        "colab": {
          "base_uri": "https://localhost:8080/"
        },
        "id": "gRN5QWi3RrvV",
        "outputId": "62a0616a-18ea-445e-cfa5-f2df40303a54"
      },
      "execution_count": null,
      "outputs": [
        {
          "output_type": "execute_result",
          "data": {
            "text/plain": [
              "0.8614395368259062"
            ]
          },
          "metadata": {},
          "execution_count": 36
        }
      ]
    },
    {
      "cell_type": "code",
      "source": [
        "# # 나이브 베이즈모델의 정확도\n",
        "# from sklearn.naive_bayes import GaussianNB\n",
        "\n",
        "# gnb = GaussianNB()\n",
        "# gnb.fit(xx_train, yy_train)\n",
        "# gnb.score(xx_val, yy_val)"
      ],
      "metadata": {
        "id": "7kGFOnVTSCw1"
      },
      "execution_count": null,
      "outputs": []
    },
    {
      "cell_type": "code",
      "source": [
        "# # GB 모델의 정확도\n",
        "# gb = GradientBoostingClassifier()\n",
        "# gb.fit(xx_train, yy_train)\n",
        "# gb.score(xx_val, yy_val)"
      ],
      "metadata": {
        "id": "eAC3VwGSZPD7"
      },
      "execution_count": null,
      "outputs": []
    },
    {
      "cell_type": "code",
      "source": [
        "# #서포트벡터머신 모델의 정확도\n",
        "# from sklearn import svm \n",
        "\n",
        "# svmm = svm.SVC()\n",
        "# svmm.fit(xx_train, yy_train)\n",
        "# svmm.score(xx_train, yy_train)"
      ],
      "metadata": {
        "id": "TrHFGnBiRzvd"
      },
      "execution_count": null,
      "outputs": []
    }
  ]
}