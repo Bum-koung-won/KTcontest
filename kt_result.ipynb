{
  "nbformat": 4,
  "nbformat_minor": 0,
  "metadata": {
    "colab": {
      "provenance": [],
      "machine_shape": "hm"
    },
    "kernelspec": {
      "name": "python3",
      "display_name": "Python 3"
    },
    "language_info": {
      "name": "python"
    },
    "accelerator": "GPU"
  },
  "cells": [
    {
      "cell_type": "code",
      "source": [
        "from google.colab import drive\n",
        "drive.mount('/content/drive')"
      ],
      "metadata": {
        "colab": {
          "base_uri": "https://localhost:8080/"
        },
        "id": "veKVRIAG_iXv",
        "outputId": "d2364112-730a-4d90-e9e9-80d5faf7383d"
      },
      "execution_count": null,
      "outputs": [
        {
          "output_type": "stream",
          "name": "stdout",
          "text": [
            "Drive already mounted at /content/drive; to attempt to forcibly remount, call drive.mount(\"/content/drive\", force_remount=True).\n"
          ]
        }
      ]
    },
    {
      "cell_type": "code",
      "execution_count": null,
      "metadata": {
        "id": "cGGEB9BPxn5-"
      },
      "outputs": [],
      "source": [
        "import numpy as np\n",
        "import pandas as pd\n",
        "from sklearn import metrics\n",
        "from sklearn.preprocessing import LabelEncoder\n",
        "import tensorflow as tf\n",
        "from keras import regularizers\n",
        "import joblib\n",
        "import os"
      ]
    },
    {
      "cell_type": "code",
      "source": [
        "os.mkdir('result')"
      ],
      "metadata": {
        "id": "fnPEWBJHVQ2d",
        "colab": {
          "base_uri": "https://localhost:8080/",
          "height": 166
        },
        "outputId": "c952a3f1-2326-4b6c-88a8-c0d49fca710c"
      },
      "execution_count": null,
      "outputs": [
        {
          "output_type": "error",
          "ename": "FileExistsError",
          "evalue": "ignored",
          "traceback": [
            "\u001b[0;31m---------------------------------------------------------------------------\u001b[0m",
            "\u001b[0;31mFileExistsError\u001b[0m                           Traceback (most recent call last)",
            "\u001b[0;32m<ipython-input-4-7f4ceef331e7>\u001b[0m in \u001b[0;36m<module>\u001b[0;34m\u001b[0m\n\u001b[0;32m----> 1\u001b[0;31m \u001b[0mos\u001b[0m\u001b[0;34m.\u001b[0m\u001b[0mmkdir\u001b[0m\u001b[0;34m(\u001b[0m\u001b[0;34m'result'\u001b[0m\u001b[0;34m)\u001b[0m\u001b[0;34m\u001b[0m\u001b[0;34m\u001b[0m\u001b[0m\n\u001b[0m",
            "\u001b[0;31mFileExistsError\u001b[0m: [Errno 17] File exists: 'result'"
          ]
        }
      ]
    },
    {
      "cell_type": "code",
      "source": [
        "kt_csv = pd.read_csv('/content/drive/MyDrive/kt/round1_test.csv')"
      ],
      "metadata": {
        "id": "Gyf6CATex3Cv"
      },
      "execution_count": null,
      "outputs": []
    },
    {
      "cell_type": "code",
      "source": [
        "kt_csv"
      ],
      "metadata": {
        "id": "-0xVbHTf1icx"
      },
      "execution_count": null,
      "outputs": []
    },
    {
      "cell_type": "code",
      "source": [
        "kt_csv.isnull().sum()"
      ],
      "metadata": {
        "id": "sC-biCblQLHb"
      },
      "execution_count": null,
      "outputs": []
    },
    {
      "cell_type": "code",
      "source": [
        "mfreq4 = kt_csv['WUID (웹 유저 ID)'].value_counts().idxmax()"
      ],
      "metadata": {
        "id": "ldjR1ouvQXtx"
      },
      "execution_count": null,
      "outputs": []
    },
    {
      "cell_type": "code",
      "source": [
        "kt_csv['WUID (웹 유저 ID)'] = kt_csv['WUID (웹 유저 ID)'].fillna(mfreq4)"
      ],
      "metadata": {
        "id": "WLWTyql6QdrR"
      },
      "execution_count": null,
      "outputs": []
    },
    {
      "cell_type": "code",
      "source": [
        "kt_csv['WUID (웹 유저 ID)'] = kt_csv['WUID (웹 유저 ID)'].astype('category')"
      ],
      "metadata": {
        "id": "QZ2x9XGA2pzB"
      },
      "execution_count": null,
      "outputs": []
    },
    {
      "cell_type": "code",
      "source": [
        "ndf = kt_csv.drop(['Bid Index', '시각', '환율', 'ADID', '매체 ID', 'OS 종류', '노출 ID', 'SSP 입찰ID', 'DSP 입찰ID', 'AX 낙찰ID', '광고 응답 소재 카테고리', '광고 응답 광고주 도메인', '국가코드 ID', 'OS 버전 ID', 'P2'], axis = 'columns')"
      ],
      "metadata": {
        "id": "RGhRftMusq8P"
      },
      "execution_count": null,
      "outputs": []
    },
    {
      "cell_type": "code",
      "source": [
        "labelencoder=LabelEncoder()\n",
        "for col in ndf.columns:\n",
        "    ndf[col] = labelencoder.fit_transform(ndf[col])"
      ],
      "metadata": {
        "id": "HkFqwKhO3WAq"
      },
      "execution_count": null,
      "outputs": []
    },
    {
      "cell_type": "code",
      "source": [
        "ndf"
      ],
      "metadata": {
        "id": "ZbLrYZjEbbYS"
      },
      "execution_count": null,
      "outputs": []
    },
    {
      "cell_type": "code",
      "source": [
        "#file -> model load\n",
        "m1 = joblib.load('/content/drive/MyDrive/kt/DecisionTree_model_220921.pkl')"
      ],
      "metadata": {
        "id": "igPo8pkERaVJ"
      },
      "execution_count": null,
      "outputs": []
    },
    {
      "cell_type": "code",
      "source": [
        "pred = m1.predict(ndf)"
      ],
      "metadata": {
        "colab": {
          "base_uri": "https://localhost:8080/"
        },
        "id": "bFj8_XY9b3el",
        "outputId": "8192a197-5348-4e75-a304-f711a2bbd6db"
      },
      "execution_count": null,
      "outputs": [
        {
          "output_type": "stream",
          "name": "stderr",
          "text": [
            "/usr/local/lib/python3.7/dist-packages/sklearn/base.py:444: UserWarning: X has feature names, but DecisionTreeClassifier was fitted without feature names\n",
            "  f\"X has feature names, but {self.__class__.__name__} was fitted without\"\n"
          ]
        }
      ]
    },
    {
      "cell_type": "code",
      "source": [
        "temp = []\n",
        "\n",
        "for v in pred:\n",
        "  if v[0]:\n",
        "    temp.append(1)\n",
        "  else:\n",
        "    temp.append(0)"
      ],
      "metadata": {
        "id": "0Gq9u-NYk6QG"
      },
      "execution_count": null,
      "outputs": []
    },
    {
      "cell_type": "code",
      "source": [
        "f = open('./result/과제2_예선_예측결과_범범형.csv', 'w')\n",
        "f.write('Bid Index,winning' '\\n') #앞 부분은 예시(메모장)에서 가져옴.\n",
        "no = 0\n",
        "for id, p in zip(kt_csv['Bid Index'], temp): \n",
        "    f.write(f'{id},{p}\\n')\n",
        "f.close()"
      ],
      "metadata": {
        "id": "rCnVAaPqfv-n"
      },
      "execution_count": null,
      "outputs": []
    }
  ]
}